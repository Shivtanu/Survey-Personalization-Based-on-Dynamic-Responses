{
  "cells": [
    {
      "cell_type": "markdown",
      "metadata": {},
      "source": [
        "Loading the Model"
      ]
    },
    {
      "cell_type": "code",
      "execution_count": 2,
      "metadata": {
        "id": "YVc99vn43oE8"
      },
      "outputs": [],
      "source": [
        "import joblib\n",
        "import pandas as pd\n",
        "import json"
      ]
    },
    {
      "cell_type": "code",
      "execution_count": 3,
      "metadata": {
        "id": "F3w4jn7U4Wad"
      },
      "outputs": [],
      "source": [
        "best_rf_model = joblib.load('best_rf_model.pkl')\n"
      ]
    },
    {
      "cell_type": "code",
      "execution_count": 4,
      "metadata": {},
      "outputs": [],
      "source": [
        "with open('column_names.json', 'r') as f:\n",
        "    column_names = json.load(f)"
      ]
    },
    {
      "cell_type": "code",
      "execution_count": 5,
      "metadata": {
        "id": "L_CcZhXD4nzF"
      },
      "outputs": [],
      "source": [
        "def suggest_next_question(current_answers, model):\n",
        "    answers_df = pd.DataFrame([current_answers], columns=column_names)\n",
        "    \n",
        "    predicted_satisfaction = model.predict(answers_df)[0]\n",
        "    print(\"Predicted Satisfaction:\", predicted_satisfaction)\n",
        "    \n",
        "    if predicted_satisfaction < 2:\n",
        "        return \"What can we improve to increase your satisfaction?\"\n",
        "    elif 2 <= predicted_satisfaction < 4:\n",
        "        return \"Can you provide more details about your experience?\"\n",
        "    else:\n",
        "        return \"What do you like most about our service?\""
      ]
    },
    {
      "cell_type": "code",
      "execution_count": 6,
      "metadata": {
        "id": "gI86YHkd4yTR"
      },
      "outputs": [],
      "source": [
        "current_answers = {\n",
        "    'satisfaction_rating': 5,\n",
        "    'primary_reason_Quality': 1,\n",
        "    'primary_reason_Price': 0,\n",
        "    'primary_reason_Customer Service': 1,\n",
        "    'primary_reason_Features': 1,\n",
        "    'primary_reason_Other': 0,\n",
        "    'recommendation_No': 0,\n",
        "    'recommendation_Yes': 1\n",
        "}"
      ]
    },
    {
      "cell_type": "code",
      "execution_count": 7,
      "metadata": {
        "colab": {
          "base_uri": "https://localhost:8080/",
          "height": 315
        },
        "id": "HWweKsx841CE",
        "outputId": "6570358e-d9eb-451b-ac2e-6511fd5153f2"
      },
      "outputs": [
        {
          "name": "stdout",
          "output_type": "stream",
          "text": [
            "Predicted Satisfaction: 1.3933927672581052\n"
          ]
        }
      ],
      "source": [
        "next_question = suggest_next_question(current_answers, best_rf_model)"
      ]
    },
    {
      "cell_type": "code",
      "execution_count": 8,
      "metadata": {
        "id": "qxJWI3yQ43dJ"
      },
      "outputs": [
        {
          "name": "stdout",
          "output_type": "stream",
          "text": [
            "Next Question: What can we improve to increase your satisfaction?\n"
          ]
        }
      ],
      "source": [
        "print(\"Next Question:\", next_question)"
      ]
    },
    {
      "cell_type": "code",
      "execution_count": null,
      "metadata": {},
      "outputs": [],
      "source": []
    }
  ],
  "metadata": {
    "colab": {
      "provenance": []
    },
    "kernelspec": {
      "display_name": "Python 3",
      "name": "python3"
    },
    "language_info": {
      "codemirror_mode": {
        "name": "ipython",
        "version": 3
      },
      "file_extension": ".py",
      "mimetype": "text/x-python",
      "name": "python",
      "nbconvert_exporter": "python",
      "pygments_lexer": "ipython3",
      "version": "3.11.1"
    }
  },
  "nbformat": 4,
  "nbformat_minor": 0
}
